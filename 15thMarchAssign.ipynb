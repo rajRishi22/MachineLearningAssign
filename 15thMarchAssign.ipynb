{
 "cells": [
  {
   "cell_type": "code",
   "execution_count": 1,
   "id": "9b4430b9-2ef2-4783-906d-5ccb3ad899e6",
   "metadata": {},
   "outputs": [],
   "source": [
    "# 1.Ans \n",
    "# AI is a way by which machines copy the working of human brain , they learn from us and produce the outputs as required.\n",
    "# Machine learning is a subset of AI in which a machine is trained on some test data in order to perform some prediction task etc.\n",
    "# Deep Learning is again a subset of Machine learining that teaches machines to do what humans should do in a particular situation mimicing the human brain.Example self driving cars "
   ]
  },
  {
   "cell_type": "code",
   "execution_count": 3,
   "id": "b5178807-5e77-41e1-b237-e72583507ed0",
   "metadata": {},
   "outputs": [],
   "source": [
    "# 2.Ans Supervised Learning is a Machine Learning algorithm in which machines are trained with labeled data for classification.For Example : House price predication model, in this model we train our model with data that consists of house prices according to their location,size,etc.\n",
    "# #"
   ]
  },
  {
   "cell_type": "code",
   "execution_count": 4,
   "id": "dfe04409-3ae1-49a9-8936-1b66e4c6c019",
   "metadata": {},
   "outputs": [],
   "source": [
    "#3.Ans Machines are trained with unlabeled data in Unsupervised Learning.Ex: An algorithim to sort dogs from Cats based on their characteristics do not need any labeled data."
   ]
  },
  {
   "cell_type": "code",
   "execution_count": 5,
   "id": "6a942839-61e3-4174-a583-f93e558d3a35",
   "metadata": {},
   "outputs": [],
   "source": [
    "#4.Ans Machine Learning (ML) is a subset of AI; it provides us statistical tools/techniques like Supervised, Unsupervised, and Reinforcement learning to explore and analyze the data. 🔹Deep Learning (DL) is further a subset of ML, and the main idea behind it is to make machines learn by mimicking the human brain"
   ]
  },
  {
   "cell_type": "code",
   "execution_count": 6,
   "id": "0630b54e-4408-40a4-89c8-0c0000d50000",
   "metadata": {},
   "outputs": [],
   "source": [
    "# 5Ans Supervised Learning is a Machine Learning algorithm in which machines are trained with labeled data for classification.For Example : House price predication model, in this model we train our model with data that consists of house prices according to their location,size,etc.\n",
    "# Machines are trained with unlabeled data in Unsupervised Learning.Ex: An algorithim to sort dogs from Cats based on their characteristics do not need any labeled data.\n",
    "# In semi supervised Learing, models are trained with a small amount of labeled data and a large amount of unlabeled data."
   ]
  },
  {
   "cell_type": "code",
   "execution_count": 7,
   "id": "5a82dea1-d10e-45ea-bd5e-967f0b016903",
   "metadata": {},
   "outputs": [],
   "source": [
    "# 6.Ans Data used for training is divided into 3 categories to refrain it from overlearning from train data and to perform well .This is done by dividing data into some fixed ratio.\n",
    "    "
   ]
  },
  {
   "cell_type": "code",
   "execution_count": 8,
   "id": "a7b48bd2-2241-4b93-9323-e2dc748ab67d",
   "metadata": {},
   "outputs": [],
   "source": [
    "# 7.Ans In unsupervised learning data is classified on the basis of some characteristics.If an item has features different from others then it will be separated out."
   ]
  },
  {
   "cell_type": "code",
   "execution_count": null,
   "id": "92a38ab5-f6f3-427f-ac38-9fbd672d781e",
   "metadata": {},
   "outputs": [],
   "source": [
    "# 8.Ans The most commonly used Supervised Learning algorithms are decision tree, logistic regression, linear regression, support vector machine. The most commonly used Unsupervised Learning algorithms are k-means clustering, hierarchical clustering, and apriori algorithm"
   ]
  }
 ],
 "metadata": {
  "kernelspec": {
   "display_name": "Python 3 (ipykernel)",
   "language": "python",
   "name": "python3"
  },
  "language_info": {
   "codemirror_mode": {
    "name": "ipython",
    "version": 3
   },
   "file_extension": ".py",
   "mimetype": "text/x-python",
   "name": "python",
   "nbconvert_exporter": "python",
   "pygments_lexer": "ipython3",
   "version": "3.10.8"
  }
 },
 "nbformat": 4,
 "nbformat_minor": 5
}
